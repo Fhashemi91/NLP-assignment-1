{
  "cells": [
    {
      "cell_type": "markdown",
      "metadata": {
        "id": "view-in-github",
        "colab_type": "text"
      },
      "source": [
        "<a href=\"https://colab.research.google.com/github/Fhashemi91/NLP-assignment-2/blob/main/NLP_AS1.ipynb\" target=\"_parent\"><img src=\"https://colab.research.google.com/assets/colab-badge.svg\" alt=\"Open In Colab\"/></a>"
      ]
    },
    {
      "cell_type": "markdown",
      "metadata": {
        "id": "mg_lXdFC3jsq"
      },
      "source": [
        "### Installing Dependencies"
      ]
    },
    {
      "cell_type": "code",
      "execution_count": null,
      "metadata": {
        "id": "GtmY_B2Q3jsr",
        "outputId": "8af2a90b-fd13-4d71-a5ee-b7e26f6f0cb8"
      },
      "outputs": [
        {
          "name": "stdout",
          "output_type": "stream",
          "text": [
            "Requirement already satisfied: nltk in c:\\users\\kimge\\appdata\\roaming\\python\\python38\\site-packages (3.7)\n",
            "Requirement already satisfied: joblib in c:\\users\\kimge\\anaconda3\\lib\\site-packages (from nltk) (1.1.0)\n",
            "Requirement already satisfied: regex>=2021.8.3 in c:\\users\\kimge\\anaconda3\\lib\\site-packages (from nltk) (2021.8.3)\n",
            "Requirement already satisfied: click in c:\\users\\kimge\\anaconda3\\lib\\site-packages (from nltk) (7.1.2)\n",
            "Requirement already satisfied: tqdm in c:\\users\\kimge\\anaconda3\\lib\\site-packages (from nltk) (4.62.3)\n",
            "Requirement already satisfied: colorama in c:\\users\\kimge\\anaconda3\\lib\\site-packages (from tqdm->nltk) (0.4.4)\n",
            "Requirement already satisfied: pandas in c:\\users\\kimge\\anaconda3\\lib\\site-packages (1.5.0)\n",
            "Requirement already satisfied: pytz>=2020.1 in c:\\users\\kimge\\anaconda3\\lib\\site-packages (from pandas) (2021.3)\n",
            "Requirement already satisfied: python-dateutil>=2.8.1 in c:\\users\\kimge\\anaconda3\\lib\\site-packages (from pandas) (2.8.2)\n",
            "Requirement already satisfied: numpy>=1.20.3 in c:\\users\\kimge\\anaconda3\\lib\\site-packages (from pandas) (1.23.3)\n",
            "Requirement already satisfied: six>=1.5 in c:\\users\\kimge\\anaconda3\\lib\\site-packages (from python-dateutil>=2.8.1->pandas) (1.15.0)\n",
            "Requirement already satisfied: sklearn in c:\\users\\kimge\\anaconda3\\lib\\site-packages (0.0)\n",
            "Requirement already satisfied: scikit-learn in c:\\users\\kimge\\anaconda3\\lib\\site-packages (from sklearn) (1.1.2)\n",
            "Requirement already satisfied: numpy>=1.17.3 in c:\\users\\kimge\\anaconda3\\lib\\site-packages (from scikit-learn->sklearn) (1.23.3)\n",
            "Requirement already satisfied: joblib>=1.0.0 in c:\\users\\kimge\\anaconda3\\lib\\site-packages (from scikit-learn->sklearn) (1.1.0)\n",
            "Requirement already satisfied: threadpoolctl>=2.0.0 in c:\\users\\kimge\\anaconda3\\lib\\site-packages (from scikit-learn->sklearn) (2.2.0)\n",
            "Requirement already satisfied: scipy>=1.3.2 in c:\\users\\kimge\\anaconda3\\lib\\site-packages (from scikit-learn->sklearn) (1.5.0)\n",
            "Requirement already satisfied: xgboost in c:\\users\\kimge\\anaconda3\\lib\\site-packages (1.2.1)\n",
            "Requirement already satisfied: scipy in c:\\users\\kimge\\anaconda3\\lib\\site-packages (from xgboost) (1.5.0)\n",
            "Requirement already satisfied: numpy in c:\\users\\kimge\\anaconda3\\lib\\site-packages (from xgboost) (1.23.3)\n"
          ]
        }
      ],
      "source": [
        "!pip install nltk\n",
        "!pip install pandas\n",
        "!pip install sklearn\n",
        "!pip install xgboost"
      ]
    },
    {
      "cell_type": "markdown",
      "metadata": {
        "id": "B-KSWD333jss"
      },
      "source": [
        "### Importing dependencies"
      ]
    },
    {
      "cell_type": "code",
      "execution_count": null,
      "metadata": {
        "id": "n_87_LdC3jss",
        "outputId": "bed8cea9-3403-4820-8bbc-589e9da0e706"
      },
      "outputs": [
        {
          "name": "stderr",
          "output_type": "stream",
          "text": [
            "[nltk_data] Downloading package punkt to\n",
            "[nltk_data]     C:\\Users\\kimge\\AppData\\Roaming\\nltk_data...\n",
            "[nltk_data]   Package punkt is already up-to-date!\n",
            "[nltk_data] Downloading package wordnet to\n",
            "[nltk_data]     C:\\Users\\kimge\\AppData\\Roaming\\nltk_data...\n",
            "[nltk_data]   Package wordnet is already up-to-date!\n",
            "[nltk_data] Downloading package omw-1.4 to\n",
            "[nltk_data]     C:\\Users\\kimge\\AppData\\Roaming\\nltk_data...\n",
            "[nltk_data]   Package omw-1.4 is already up-to-date!\n",
            "[nltk_data] Downloading package stopwords to\n",
            "[nltk_data]     C:\\Users\\kimge\\AppData\\Roaming\\nltk_data...\n",
            "[nltk_data]   Package stopwords is already up-to-date!\n",
            "[nltk_data] Downloading package averaged_perceptron_tagger to\n",
            "[nltk_data]     C:\\Users\\kimge\\AppData\\Roaming\\nltk_data...\n",
            "[nltk_data]   Package averaged_perceptron_tagger is already up-to-\n",
            "[nltk_data]       date!\n"
          ]
        },
        {
          "data": {
            "text/plain": [
              "True"
            ]
          },
          "execution_count": 253,
          "metadata": {},
          "output_type": "execute_result"
        }
      ],
      "source": [
        "import nltk\n",
        "import pandas as pd\n",
        "from sklearn.feature_extraction.text import TfidfVectorizer, CountVectorizer\n",
        "from nltk.corpus import stopwords\n",
        "from nltk import word_tokenize\n",
        "from nltk.tag import pos_tag\n",
        "from nltk.stem import WordNetLemmatizer\n",
        "from nltk.stem import PorterStemmer\n",
        "import re\n",
        "from sklearn.model_selection import train_test_split\n",
        "from xgboost import XGBClassifier, XGBRegressor\n",
        "from sklearn.metrics import f1_score, accuracy_score\n",
        "nltk.download('punkt')\n",
        "nltk.download('wordnet')\n",
        "nltk.download('omw-1.4')\n",
        "nltk.download('stopwords')\n",
        "nltk.download('averaged_perceptron_tagger') \n"
      ]
    },
    {
      "cell_type": "markdown",
      "metadata": {
        "id": "gha_hTHk3jss"
      },
      "source": [
        "### Loading News Dataset"
      ]
    },
    {
      "cell_type": "markdown",
      "metadata": {
        "id": "7tTa2irp3jss"
      },
      "source": [
        "We are intrested in the title and date columns.\n",
        "We are also interested in records with AAPL ticker."
      ]
    },
    {
      "cell_type": "code",
      "execution_count": null,
      "metadata": {
        "id": "UgzCrVqU3jss",
        "outputId": "0446e144-b64b-4a48-ce9c-08089bf2ed63"
      },
      "outputs": [
        {
          "data": {
            "text/html": [
              "<div>\n",
              "<style scoped>\n",
              "    .dataframe tbody tr th:only-of-type {\n",
              "        vertical-align: middle;\n",
              "    }\n",
              "\n",
              "    .dataframe tbody tr th {\n",
              "        vertical-align: top;\n",
              "    }\n",
              "\n",
              "    .dataframe thead th {\n",
              "        text-align: right;\n",
              "    }\n",
              "</style>\n",
              "<table border=\"1\" class=\"dataframe\">\n",
              "  <thead>\n",
              "    <tr style=\"text-align: right;\">\n",
              "      <th></th>\n",
              "      <th>id</th>\n",
              "      <th>ticker</th>\n",
              "      <th>title</th>\n",
              "      <th>category</th>\n",
              "      <th>release_date</th>\n",
              "    </tr>\n",
              "  </thead>\n",
              "  <tbody>\n",
              "    <tr>\n",
              "      <th>49183</th>\n",
              "      <td>270698</td>\n",
              "      <td>AAPL</td>\n",
              "      <td>JPMorgan cautious ahead of Apple earnings</td>\n",
              "      <td>news</td>\n",
              "      <td>2020-01-28</td>\n",
              "    </tr>\n",
              "    <tr>\n",
              "      <th>49184</th>\n",
              "      <td>270699</td>\n",
              "      <td>AAPL</td>\n",
              "      <td>FAANG s Fall  but Get Some Wall Street Love</td>\n",
              "      <td>news</td>\n",
              "      <td>2020-01-28</td>\n",
              "    </tr>\n",
              "    <tr>\n",
              "      <th>49185</th>\n",
              "      <td>270700</td>\n",
              "      <td>AAPL</td>\n",
              "      <td>Wall Street tumbles as virus fuels economic worry</td>\n",
              "      <td>news</td>\n",
              "      <td>2020-01-28</td>\n",
              "    </tr>\n",
              "    <tr>\n",
              "      <th>49186</th>\n",
              "      <td>270701</td>\n",
              "      <td>AAPL</td>\n",
              "      <td>Earnings Watch  Apple and AMD to take earnings...</td>\n",
              "      <td>news</td>\n",
              "      <td>2020-01-28</td>\n",
              "    </tr>\n",
              "    <tr>\n",
              "      <th>49187</th>\n",
              "      <td>270702</td>\n",
              "      <td>AAPL</td>\n",
              "      <td>Day Ahead  Top 3 Things to Watch for Jan 28</td>\n",
              "      <td>news</td>\n",
              "      <td>2020-01-28</td>\n",
              "    </tr>\n",
              "    <tr>\n",
              "      <th>...</th>\n",
              "      <td>...</td>\n",
              "      <td>...</td>\n",
              "      <td>...</td>\n",
              "      <td>...</td>\n",
              "      <td>...</td>\n",
              "    </tr>\n",
              "    <tr>\n",
              "      <th>69409</th>\n",
              "      <td>290924</td>\n",
              "      <td>AAPL</td>\n",
              "      <td>Waiting For Direction On The Markets</td>\n",
              "      <td>opinion</td>\n",
              "      <td>2012-07-16</td>\n",
              "    </tr>\n",
              "    <tr>\n",
              "      <th>69410</th>\n",
              "      <td>290925</td>\n",
              "      <td>AAPL</td>\n",
              "      <td>Mid Year Update  U S  And Canadian Stock Marke...</td>\n",
              "      <td>opinion</td>\n",
              "      <td>2012-07-19</td>\n",
              "    </tr>\n",
              "    <tr>\n",
              "      <th>69411</th>\n",
              "      <td>290926</td>\n",
              "      <td>AAPL</td>\n",
              "      <td>Summer Heat Scorches Europe And U S</td>\n",
              "      <td>opinion</td>\n",
              "      <td>2012-07-23</td>\n",
              "    </tr>\n",
              "    <tr>\n",
              "      <th>69412</th>\n",
              "      <td>290927</td>\n",
              "      <td>AAPL</td>\n",
              "      <td>Apple Earnings Preview  Quarterly Dip On Deck</td>\n",
              "      <td>opinion</td>\n",
              "      <td>2012-07-23</td>\n",
              "    </tr>\n",
              "    <tr>\n",
              "      <th>69413</th>\n",
              "      <td>290928</td>\n",
              "      <td>AAPL</td>\n",
              "      <td>Trade Apple After Earnings</td>\n",
              "      <td>opinion</td>\n",
              "      <td>2012-07-23</td>\n",
              "    </tr>\n",
              "  </tbody>\n",
              "</table>\n",
              "<p>20231 rows × 5 columns</p>\n",
              "</div>"
            ],
            "text/plain": [
              "           id ticker                                              title  \\\n",
              "49183  270698   AAPL          JPMorgan cautious ahead of Apple earnings   \n",
              "49184  270699   AAPL        FAANG s Fall  but Get Some Wall Street Love   \n",
              "49185  270700   AAPL  Wall Street tumbles as virus fuels economic worry   \n",
              "49186  270701   AAPL  Earnings Watch  Apple and AMD to take earnings...   \n",
              "49187  270702   AAPL        Day Ahead  Top 3 Things to Watch for Jan 28   \n",
              "...       ...    ...                                                ...   \n",
              "69409  290924   AAPL               Waiting For Direction On The Markets   \n",
              "69410  290925   AAPL  Mid Year Update  U S  And Canadian Stock Marke...   \n",
              "69411  290926   AAPL               Summer Heat Scorches Europe And U S    \n",
              "69412  290927   AAPL     Apple Earnings Preview  Quarterly Dip On Deck    \n",
              "69413  290928   AAPL                         Trade Apple After Earnings   \n",
              "\n",
              "      category release_date  \n",
              "49183     news   2020-01-28  \n",
              "49184     news   2020-01-28  \n",
              "49185     news   2020-01-28  \n",
              "49186     news   2020-01-28  \n",
              "49187     news   2020-01-28  \n",
              "...        ...          ...  \n",
              "69409  opinion   2012-07-16  \n",
              "69410  opinion   2012-07-19  \n",
              "69411  opinion   2012-07-23  \n",
              "69412  opinion   2012-07-23  \n",
              "69413  opinion   2012-07-23  \n",
              "\n",
              "[20231 rows x 5 columns]"
            ]
          },
          "execution_count": 220,
          "metadata": {},
          "output_type": "execute_result"
        }
      ],
      "source": [
        "# loading dataframe from csv file\n",
        "news = pd.read_csv('./us_equities_news_dataset.csv')\n",
        "# Dropping irrelevant columns\n",
        "news = news.drop(['content', 'url', 'article_id', 'provider'], axis = 1) \n",
        "\n",
        "# Filtering for AAPL news\n",
        "news = news[news.ticker=='AAPL']\n",
        "news"
      ]
    },
    {
      "cell_type": "code",
      "execution_count": null,
      "metadata": {
        "id": "OyIsS33-3jss",
        "outputId": "19a87a05-4a7c-47d8-9c10-ab09a520b1b5"
      },
      "outputs": [
        {
          "data": {
            "text/html": [
              "<div>\n",
              "<style scoped>\n",
              "    .dataframe tbody tr th:only-of-type {\n",
              "        vertical-align: middle;\n",
              "    }\n",
              "\n",
              "    .dataframe tbody tr th {\n",
              "        vertical-align: top;\n",
              "    }\n",
              "\n",
              "    .dataframe thead th {\n",
              "        text-align: right;\n",
              "    }\n",
              "</style>\n",
              "<table border=\"1\" class=\"dataframe\">\n",
              "  <thead>\n",
              "    <tr style=\"text-align: right;\">\n",
              "      <th></th>\n",
              "      <th>Date</th>\n",
              "      <th>Open</th>\n",
              "      <th>High</th>\n",
              "      <th>Low</th>\n",
              "      <th>Close</th>\n",
              "      <th>Adj Close</th>\n",
              "      <th>Volume</th>\n",
              "    </tr>\n",
              "  </thead>\n",
              "  <tbody>\n",
              "    <tr>\n",
              "      <th>0</th>\n",
              "      <td>2009-01-15</td>\n",
              "      <td>2.877500</td>\n",
              "      <td>3.004286</td>\n",
              "      <td>2.858929</td>\n",
              "      <td>2.977857</td>\n",
              "      <td>2.542589</td>\n",
              "      <td>1831634000</td>\n",
              "    </tr>\n",
              "    <tr>\n",
              "      <th>1</th>\n",
              "      <td>2009-01-16</td>\n",
              "      <td>3.010714</td>\n",
              "      <td>3.013571</td>\n",
              "      <td>2.871429</td>\n",
              "      <td>2.940357</td>\n",
              "      <td>2.510570</td>\n",
              "      <td>1047625600</td>\n",
              "    </tr>\n",
              "    <tr>\n",
              "      <th>2</th>\n",
              "      <td>2009-01-20</td>\n",
              "      <td>2.926071</td>\n",
              "      <td>2.928571</td>\n",
              "      <td>2.792857</td>\n",
              "      <td>2.792857</td>\n",
              "      <td>2.384630</td>\n",
              "      <td>919914800</td>\n",
              "    </tr>\n",
              "    <tr>\n",
              "      <th>3</th>\n",
              "      <td>2009-01-21</td>\n",
              "      <td>2.835357</td>\n",
              "      <td>2.960000</td>\n",
              "      <td>2.832500</td>\n",
              "      <td>2.958214</td>\n",
              "      <td>2.525818</td>\n",
              "      <td>1089270000</td>\n",
              "    </tr>\n",
              "    <tr>\n",
              "      <th>4</th>\n",
              "      <td>2009-01-22</td>\n",
              "      <td>3.144286</td>\n",
              "      <td>3.214286</td>\n",
              "      <td>3.065000</td>\n",
              "      <td>3.155714</td>\n",
              "      <td>2.694449</td>\n",
              "      <td>1409528400</td>\n",
              "    </tr>\n",
              "    <tr>\n",
              "      <th>...</th>\n",
              "      <td>...</td>\n",
              "      <td>...</td>\n",
              "      <td>...</td>\n",
              "      <td>...</td>\n",
              "      <td>...</td>\n",
              "      <td>...</td>\n",
              "      <td>...</td>\n",
              "    </tr>\n",
              "    <tr>\n",
              "      <th>3435</th>\n",
              "      <td>2022-09-08</td>\n",
              "      <td>154.639999</td>\n",
              "      <td>156.360001</td>\n",
              "      <td>152.679993</td>\n",
              "      <td>154.460007</td>\n",
              "      <td>154.460007</td>\n",
              "      <td>84923800</td>\n",
              "    </tr>\n",
              "    <tr>\n",
              "      <th>3436</th>\n",
              "      <td>2022-09-09</td>\n",
              "      <td>155.470001</td>\n",
              "      <td>157.820007</td>\n",
              "      <td>154.750000</td>\n",
              "      <td>157.369995</td>\n",
              "      <td>157.369995</td>\n",
              "      <td>68028800</td>\n",
              "    </tr>\n",
              "    <tr>\n",
              "      <th>3437</th>\n",
              "      <td>2022-09-12</td>\n",
              "      <td>159.589996</td>\n",
              "      <td>164.259995</td>\n",
              "      <td>159.300003</td>\n",
              "      <td>163.429993</td>\n",
              "      <td>163.429993</td>\n",
              "      <td>104956000</td>\n",
              "    </tr>\n",
              "    <tr>\n",
              "      <th>3438</th>\n",
              "      <td>2022-09-13</td>\n",
              "      <td>159.899994</td>\n",
              "      <td>160.539993</td>\n",
              "      <td>153.369995</td>\n",
              "      <td>153.839996</td>\n",
              "      <td>153.839996</td>\n",
              "      <td>122656600</td>\n",
              "    </tr>\n",
              "    <tr>\n",
              "      <th>3439</th>\n",
              "      <td>2022-09-14</td>\n",
              "      <td>154.789993</td>\n",
              "      <td>157.100006</td>\n",
              "      <td>153.610001</td>\n",
              "      <td>155.309998</td>\n",
              "      <td>155.309998</td>\n",
              "      <td>87850600</td>\n",
              "    </tr>\n",
              "  </tbody>\n",
              "</table>\n",
              "<p>3440 rows × 7 columns</p>\n",
              "</div>"
            ],
            "text/plain": [
              "            Date        Open        High         Low       Close   Adj Close  \\\n",
              "0     2009-01-15    2.877500    3.004286    2.858929    2.977857    2.542589   \n",
              "1     2009-01-16    3.010714    3.013571    2.871429    2.940357    2.510570   \n",
              "2     2009-01-20    2.926071    2.928571    2.792857    2.792857    2.384630   \n",
              "3     2009-01-21    2.835357    2.960000    2.832500    2.958214    2.525818   \n",
              "4     2009-01-22    3.144286    3.214286    3.065000    3.155714    2.694449   \n",
              "...          ...         ...         ...         ...         ...         ...   \n",
              "3435  2022-09-08  154.639999  156.360001  152.679993  154.460007  154.460007   \n",
              "3436  2022-09-09  155.470001  157.820007  154.750000  157.369995  157.369995   \n",
              "3437  2022-09-12  159.589996  164.259995  159.300003  163.429993  163.429993   \n",
              "3438  2022-09-13  159.899994  160.539993  153.369995  153.839996  153.839996   \n",
              "3439  2022-09-14  154.789993  157.100006  153.610001  155.309998  155.309998   \n",
              "\n",
              "          Volume  \n",
              "0     1831634000  \n",
              "1     1047625600  \n",
              "2      919914800  \n",
              "3     1089270000  \n",
              "4     1409528400  \n",
              "...          ...  \n",
              "3435    84923800  \n",
              "3436    68028800  \n",
              "3437   104956000  \n",
              "3438   122656600  \n",
              "3439    87850600  \n",
              "\n",
              "[3440 rows x 7 columns]"
            ]
          },
          "execution_count": 221,
          "metadata": {},
          "output_type": "execute_result"
        }
      ],
      "source": [
        "pd.read_csv('./AAPL.csv')"
      ]
    },
    {
      "cell_type": "code",
      "execution_count": null,
      "metadata": {
        "id": "281KA0QZ3jss",
        "outputId": "eb7b8f71-fbf8-4e94-b645-b1b980d5afed"
      },
      "outputs": [
        {
          "data": {
            "text/html": [
              "<div>\n",
              "<style scoped>\n",
              "    .dataframe tbody tr th:only-of-type {\n",
              "        vertical-align: middle;\n",
              "    }\n",
              "\n",
              "    .dataframe tbody tr th {\n",
              "        vertical-align: top;\n",
              "    }\n",
              "\n",
              "    .dataframe thead th {\n",
              "        text-align: right;\n",
              "    }\n",
              "</style>\n",
              "<table border=\"1\" class=\"dataframe\">\n",
              "  <thead>\n",
              "    <tr style=\"text-align: right;\">\n",
              "      <th></th>\n",
              "      <th>Date</th>\n",
              "      <th>Open</th>\n",
              "      <th>Close</th>\n",
              "    </tr>\n",
              "  </thead>\n",
              "  <tbody>\n",
              "    <tr>\n",
              "      <th>0</th>\n",
              "      <td>2009-01-15</td>\n",
              "      <td>2.877500</td>\n",
              "      <td>2.977857</td>\n",
              "    </tr>\n",
              "    <tr>\n",
              "      <th>1</th>\n",
              "      <td>2009-01-16</td>\n",
              "      <td>3.010714</td>\n",
              "      <td>2.940357</td>\n",
              "    </tr>\n",
              "    <tr>\n",
              "      <th>2</th>\n",
              "      <td>2009-01-20</td>\n",
              "      <td>2.926071</td>\n",
              "      <td>2.792857</td>\n",
              "    </tr>\n",
              "    <tr>\n",
              "      <th>3</th>\n",
              "      <td>2009-01-21</td>\n",
              "      <td>2.835357</td>\n",
              "      <td>2.958214</td>\n",
              "    </tr>\n",
              "    <tr>\n",
              "      <th>4</th>\n",
              "      <td>2009-01-22</td>\n",
              "      <td>3.144286</td>\n",
              "      <td>3.155714</td>\n",
              "    </tr>\n",
              "    <tr>\n",
              "      <th>...</th>\n",
              "      <td>...</td>\n",
              "      <td>...</td>\n",
              "      <td>...</td>\n",
              "    </tr>\n",
              "    <tr>\n",
              "      <th>3435</th>\n",
              "      <td>2022-09-08</td>\n",
              "      <td>154.639999</td>\n",
              "      <td>154.460007</td>\n",
              "    </tr>\n",
              "    <tr>\n",
              "      <th>3436</th>\n",
              "      <td>2022-09-09</td>\n",
              "      <td>155.470001</td>\n",
              "      <td>157.369995</td>\n",
              "    </tr>\n",
              "    <tr>\n",
              "      <th>3437</th>\n",
              "      <td>2022-09-12</td>\n",
              "      <td>159.589996</td>\n",
              "      <td>163.429993</td>\n",
              "    </tr>\n",
              "    <tr>\n",
              "      <th>3438</th>\n",
              "      <td>2022-09-13</td>\n",
              "      <td>159.899994</td>\n",
              "      <td>153.839996</td>\n",
              "    </tr>\n",
              "    <tr>\n",
              "      <th>3439</th>\n",
              "      <td>2022-09-14</td>\n",
              "      <td>154.789993</td>\n",
              "      <td>155.309998</td>\n",
              "    </tr>\n",
              "  </tbody>\n",
              "</table>\n",
              "<p>3440 rows × 3 columns</p>\n",
              "</div>"
            ],
            "text/plain": [
              "            Date        Open       Close\n",
              "0     2009-01-15    2.877500    2.977857\n",
              "1     2009-01-16    3.010714    2.940357\n",
              "2     2009-01-20    2.926071    2.792857\n",
              "3     2009-01-21    2.835357    2.958214\n",
              "4     2009-01-22    3.144286    3.155714\n",
              "...          ...         ...         ...\n",
              "3435  2022-09-08  154.639999  154.460007\n",
              "3436  2022-09-09  155.470001  157.369995\n",
              "3437  2022-09-12  159.589996  163.429993\n",
              "3438  2022-09-13  159.899994  153.839996\n",
              "3439  2022-09-14  154.789993  155.309998\n",
              "\n",
              "[3440 rows x 3 columns]"
            ]
          },
          "execution_count": 222,
          "metadata": {},
          "output_type": "execute_result"
        }
      ],
      "source": [
        "# Loading dataframe from csv file\n",
        "stocks = pd.read_csv('./AAPL.csv').drop(['High', 'Low', 'Adj Close', 'Volume'], axis=1)\n",
        "stocks"
      ]
    },
    {
      "cell_type": "markdown",
      "metadata": {
        "id": "FU_9iWFw3jst"
      },
      "source": [
        "We are labeling the records with close>=open as 1 and others as 0"
      ]
    },
    {
      "cell_type": "code",
      "execution_count": null,
      "metadata": {
        "id": "7uC-Uto33jst",
        "outputId": "4e45b714-d340-4c51-8657-9fa2af4b0651"
      },
      "outputs": [
        {
          "data": {
            "text/html": [
              "<div>\n",
              "<style scoped>\n",
              "    .dataframe tbody tr th:only-of-type {\n",
              "        vertical-align: middle;\n",
              "    }\n",
              "\n",
              "    .dataframe tbody tr th {\n",
              "        vertical-align: top;\n",
              "    }\n",
              "\n",
              "    .dataframe thead th {\n",
              "        text-align: right;\n",
              "    }\n",
              "</style>\n",
              "<table border=\"1\" class=\"dataframe\">\n",
              "  <thead>\n",
              "    <tr style=\"text-align: right;\">\n",
              "      <th></th>\n",
              "      <th>Date</th>\n",
              "      <th>Open</th>\n",
              "      <th>Close</th>\n",
              "      <th>movement</th>\n",
              "    </tr>\n",
              "  </thead>\n",
              "  <tbody>\n",
              "    <tr>\n",
              "      <th>0</th>\n",
              "      <td>2009-01-15</td>\n",
              "      <td>2.877500</td>\n",
              "      <td>2.977857</td>\n",
              "      <td>1.0</td>\n",
              "    </tr>\n",
              "    <tr>\n",
              "      <th>1</th>\n",
              "      <td>2009-01-16</td>\n",
              "      <td>3.010714</td>\n",
              "      <td>2.940357</td>\n",
              "      <td>0.0</td>\n",
              "    </tr>\n",
              "    <tr>\n",
              "      <th>2</th>\n",
              "      <td>2009-01-20</td>\n",
              "      <td>2.926071</td>\n",
              "      <td>2.792857</td>\n",
              "      <td>0.0</td>\n",
              "    </tr>\n",
              "    <tr>\n",
              "      <th>3</th>\n",
              "      <td>2009-01-21</td>\n",
              "      <td>2.835357</td>\n",
              "      <td>2.958214</td>\n",
              "      <td>1.0</td>\n",
              "    </tr>\n",
              "    <tr>\n",
              "      <th>4</th>\n",
              "      <td>2009-01-22</td>\n",
              "      <td>3.144286</td>\n",
              "      <td>3.155714</td>\n",
              "      <td>1.0</td>\n",
              "    </tr>\n",
              "    <tr>\n",
              "      <th>...</th>\n",
              "      <td>...</td>\n",
              "      <td>...</td>\n",
              "      <td>...</td>\n",
              "      <td>...</td>\n",
              "    </tr>\n",
              "    <tr>\n",
              "      <th>3435</th>\n",
              "      <td>2022-09-08</td>\n",
              "      <td>154.639999</td>\n",
              "      <td>154.460007</td>\n",
              "      <td>0.0</td>\n",
              "    </tr>\n",
              "    <tr>\n",
              "      <th>3436</th>\n",
              "      <td>2022-09-09</td>\n",
              "      <td>155.470001</td>\n",
              "      <td>157.369995</td>\n",
              "      <td>1.0</td>\n",
              "    </tr>\n",
              "    <tr>\n",
              "      <th>3437</th>\n",
              "      <td>2022-09-12</td>\n",
              "      <td>159.589996</td>\n",
              "      <td>163.429993</td>\n",
              "      <td>1.0</td>\n",
              "    </tr>\n",
              "    <tr>\n",
              "      <th>3438</th>\n",
              "      <td>2022-09-13</td>\n",
              "      <td>159.899994</td>\n",
              "      <td>153.839996</td>\n",
              "      <td>0.0</td>\n",
              "    </tr>\n",
              "    <tr>\n",
              "      <th>3439</th>\n",
              "      <td>2022-09-14</td>\n",
              "      <td>154.789993</td>\n",
              "      <td>155.309998</td>\n",
              "      <td>1.0</td>\n",
              "    </tr>\n",
              "  </tbody>\n",
              "</table>\n",
              "<p>3440 rows × 4 columns</p>\n",
              "</div>"
            ],
            "text/plain": [
              "            Date        Open       Close  movement\n",
              "0     2009-01-15    2.877500    2.977857       1.0\n",
              "1     2009-01-16    3.010714    2.940357       0.0\n",
              "2     2009-01-20    2.926071    2.792857       0.0\n",
              "3     2009-01-21    2.835357    2.958214       1.0\n",
              "4     2009-01-22    3.144286    3.155714       1.0\n",
              "...          ...         ...         ...       ...\n",
              "3435  2022-09-08  154.639999  154.460007       0.0\n",
              "3436  2022-09-09  155.470001  157.369995       1.0\n",
              "3437  2022-09-12  159.589996  163.429993       1.0\n",
              "3438  2022-09-13  159.899994  153.839996       0.0\n",
              "3439  2022-09-14  154.789993  155.309998       1.0\n",
              "\n",
              "[3440 rows x 4 columns]"
            ]
          },
          "execution_count": 223,
          "metadata": {},
          "output_type": "execute_result"
        }
      ],
      "source": [
        "# Creating a binary feature for movement (close-open) in the stock price\n",
        "stocks.loc[stocks[\"Close\"] >= stocks[\"Open\"], \"movement\"] = 1\n",
        "stocks.loc[stocks[\"Close\"] < stocks[\"Open\"], \"movement\"] = 0\n",
        "stocks"
      ]
    },
    {
      "cell_type": "markdown",
      "metadata": {
        "id": "EbRUFiQs3jst"
      },
      "source": [
        "### Setup preprocessing ###"
      ]
    },
    {
      "cell_type": "markdown",
      "metadata": {
        "id": "kSWfKaxf3jst"
      },
      "source": [
        "<!-- Next we get to preprocess our data by:\n",
        "* Lowercasing\n",
        "* Removing stop words\n",
        "* Removing @words\n",
        "* Changing U S and S P to US and SP\n",
        "* Removing punctuations, numbers and special characters\n",
        "* Lemmatization by part of speech\n",
        "* removing trailing white spaces -->"
      ]
    },
    {
      "cell_type": "code",
      "execution_count": null,
      "metadata": {
        "id": "1ggkJ__l3jst",
        "outputId": "dc64915b-993d-4b5b-9413-e1ce3b9a5051"
      },
      "outputs": [
        {
          "data": {
            "text/plain": [
              "'jpmorgan cautious ahead apple earnings us'"
            ]
          },
          "execution_count": 239,
          "metadata": {},
          "output_type": "execute_result"
        }
      ],
      "source": [
        "# Lemmatizer object\n",
        "lemma = WordNetLemmatizer()\n",
        "\n",
        "\n",
        "def text_preprocessing(s):\n",
        "    \"\"\"\n",
        "    - Lowercase the sentence\n",
        "    - Remove \"@name\"\n",
        "    - Isolate and remove punctuations \n",
        "    - Remove other special characters\n",
        "    - Remove stop words \n",
        "    - Remove trailing whitespace\n",
        "    \"\"\"\n",
        "    # lowercasing\n",
        "    s = s.lower()\n",
        "    # changing u s and s p to us and sp\n",
        "    s = re.sub(r'(^|\\s)(u\\ss)($|\\s)', ' us ', s)\n",
        "    s = re.sub(r'(^|\\s)(s\\sp)($|\\s)', ' sp ', s)\n",
        "    # removing stopwords\n",
        "    s = \" \".join([word for word in s.split() if word not in stopwords.words('english')])\n",
        "    # remove @name\n",
        "    s = re.sub(r'(@.*?)[\\s]', ' ', s)\n",
        "    # remvoing punctuations\n",
        "    s = re.sub(r'([\\'\\\"\\.\\(\\)\\!\\?\\\\\\/\\,])', r' \\1 ', s)\n",
        "    s = re.sub(r'[^\\w\\s\\?\\!]', ' ', s)\n",
        "    # removing numbers\n",
        "    s = re.sub(r'\\d+', ' ', s)\n",
        "    # removing some special characters\n",
        "    s = re.sub(r'([\\;\\:\\|•«\\n])', ' ', s)\n",
        "    # lemmatization    \n",
        "    s = \" \".join([lemma.lemmatize(w,pos='n') if t.startswith('N') else # noun\n",
        "                  lemma.lemmatize(w,pos='v') if t.startswith('V') else # verb\n",
        "                  lemma.lemmatize(w,pos='a') if t.startswith('JJ') else # adjective\n",
        "                  lemma.lemmatize(w,pos='r') if t.startswith('R') else # adverbs\n",
        "                  \n",
        "                  w for w,t in pos_tag(word_tokenize(s))])\n",
        "    # removing trailing whitespace\n",
        "    s = re.sub(r'\\s+', ' ', s).strip()\n",
        "    return s\n",
        "# test\n",
        "text_preprocessing('JPMorgan cautious ahead of Apple earnings u s @here 2.')"
      ]
    },
    {
      "cell_type": "markdown",
      "metadata": {
        "id": "904Nf5aa3jst"
      },
      "source": [
        "### Process titles"
      ]
    },
    {
      "cell_type": "code",
      "execution_count": null,
      "metadata": {
        "id": "-3mUM7Ug3jst",
        "outputId": "230b526b-487a-4297-ff50-82b0fdf39584"
      },
      "outputs": [
        {
          "data": {
            "text/html": [
              "<div>\n",
              "<style scoped>\n",
              "    .dataframe tbody tr th:only-of-type {\n",
              "        vertical-align: middle;\n",
              "    }\n",
              "\n",
              "    .dataframe tbody tr th {\n",
              "        vertical-align: top;\n",
              "    }\n",
              "\n",
              "    .dataframe thead th {\n",
              "        text-align: right;\n",
              "    }\n",
              "</style>\n",
              "<table border=\"1\" class=\"dataframe\">\n",
              "  <thead>\n",
              "    <tr style=\"text-align: right;\">\n",
              "      <th></th>\n",
              "      <th>id</th>\n",
              "      <th>ticker</th>\n",
              "      <th>title</th>\n",
              "      <th>category</th>\n",
              "      <th>release_date</th>\n",
              "      <th>processed_titles</th>\n",
              "    </tr>\n",
              "  </thead>\n",
              "  <tbody>\n",
              "    <tr>\n",
              "      <th>49183</th>\n",
              "      <td>270698</td>\n",
              "      <td>AAPL</td>\n",
              "      <td>JPMorgan cautious ahead of Apple earnings</td>\n",
              "      <td>news</td>\n",
              "      <td>2020-01-28</td>\n",
              "      <td>jpmorgan cautious ahead apple earnings</td>\n",
              "    </tr>\n",
              "    <tr>\n",
              "      <th>49184</th>\n",
              "      <td>270699</td>\n",
              "      <td>AAPL</td>\n",
              "      <td>FAANG s Fall  but Get Some Wall Street Love</td>\n",
              "      <td>news</td>\n",
              "      <td>2020-01-28</td>\n",
              "      <td>faang fall get wall street love</td>\n",
              "    </tr>\n",
              "    <tr>\n",
              "      <th>49185</th>\n",
              "      <td>270700</td>\n",
              "      <td>AAPL</td>\n",
              "      <td>Wall Street tumbles as virus fuels economic worry</td>\n",
              "      <td>news</td>\n",
              "      <td>2020-01-28</td>\n",
              "      <td>wall street tumble virus fuel economic worry</td>\n",
              "    </tr>\n",
              "    <tr>\n",
              "      <th>49186</th>\n",
              "      <td>270701</td>\n",
              "      <td>AAPL</td>\n",
              "      <td>Earnings Watch  Apple and AMD to take earnings...</td>\n",
              "      <td>news</td>\n",
              "      <td>2020-01-28</td>\n",
              "      <td>earnings watch apple amd take earnings stage a...</td>\n",
              "    </tr>\n",
              "    <tr>\n",
              "      <th>49187</th>\n",
              "      <td>270702</td>\n",
              "      <td>AAPL</td>\n",
              "      <td>Day Ahead  Top 3 Things to Watch for Jan 28</td>\n",
              "      <td>news</td>\n",
              "      <td>2020-01-28</td>\n",
              "      <td>day ahead top thing watch jan</td>\n",
              "    </tr>\n",
              "    <tr>\n",
              "      <th>...</th>\n",
              "      <td>...</td>\n",
              "      <td>...</td>\n",
              "      <td>...</td>\n",
              "      <td>...</td>\n",
              "      <td>...</td>\n",
              "      <td>...</td>\n",
              "    </tr>\n",
              "    <tr>\n",
              "      <th>69409</th>\n",
              "      <td>290924</td>\n",
              "      <td>AAPL</td>\n",
              "      <td>Waiting For Direction On The Markets</td>\n",
              "      <td>opinion</td>\n",
              "      <td>2012-07-16</td>\n",
              "      <td>wait direction market</td>\n",
              "    </tr>\n",
              "    <tr>\n",
              "      <th>69410</th>\n",
              "      <td>290925</td>\n",
              "      <td>AAPL</td>\n",
              "      <td>Mid Year Update  U S  And Canadian Stock Marke...</td>\n",
              "      <td>opinion</td>\n",
              "      <td>2012-07-19</td>\n",
              "      <td>mid year update us canadian stock market sector</td>\n",
              "    </tr>\n",
              "    <tr>\n",
              "      <th>69411</th>\n",
              "      <td>290926</td>\n",
              "      <td>AAPL</td>\n",
              "      <td>Summer Heat Scorches Europe And U S</td>\n",
              "      <td>opinion</td>\n",
              "      <td>2012-07-23</td>\n",
              "      <td>summer heat scorch europe us</td>\n",
              "    </tr>\n",
              "    <tr>\n",
              "      <th>69412</th>\n",
              "      <td>290927</td>\n",
              "      <td>AAPL</td>\n",
              "      <td>Apple Earnings Preview  Quarterly Dip On Deck</td>\n",
              "      <td>opinion</td>\n",
              "      <td>2012-07-23</td>\n",
              "      <td>apple earnings preview quarterly dip deck</td>\n",
              "    </tr>\n",
              "    <tr>\n",
              "      <th>69413</th>\n",
              "      <td>290928</td>\n",
              "      <td>AAPL</td>\n",
              "      <td>Trade Apple After Earnings</td>\n",
              "      <td>opinion</td>\n",
              "      <td>2012-07-23</td>\n",
              "      <td>trade apple earnings</td>\n",
              "    </tr>\n",
              "  </tbody>\n",
              "</table>\n",
              "<p>20231 rows × 6 columns</p>\n",
              "</div>"
            ],
            "text/plain": [
              "           id ticker                                              title  \\\n",
              "49183  270698   AAPL          JPMorgan cautious ahead of Apple earnings   \n",
              "49184  270699   AAPL        FAANG s Fall  but Get Some Wall Street Love   \n",
              "49185  270700   AAPL  Wall Street tumbles as virus fuels economic worry   \n",
              "49186  270701   AAPL  Earnings Watch  Apple and AMD to take earnings...   \n",
              "49187  270702   AAPL        Day Ahead  Top 3 Things to Watch for Jan 28   \n",
              "...       ...    ...                                                ...   \n",
              "69409  290924   AAPL               Waiting For Direction On The Markets   \n",
              "69410  290925   AAPL  Mid Year Update  U S  And Canadian Stock Marke...   \n",
              "69411  290926   AAPL               Summer Heat Scorches Europe And U S    \n",
              "69412  290927   AAPL     Apple Earnings Preview  Quarterly Dip On Deck    \n",
              "69413  290928   AAPL                         Trade Apple After Earnings   \n",
              "\n",
              "      category release_date                                   processed_titles  \n",
              "49183     news   2020-01-28             jpmorgan cautious ahead apple earnings  \n",
              "49184     news   2020-01-28                    faang fall get wall street love  \n",
              "49185     news   2020-01-28       wall street tumble virus fuel economic worry  \n",
              "49186     news   2020-01-28  earnings watch apple amd take earnings stage a...  \n",
              "49187     news   2020-01-28                      day ahead top thing watch jan  \n",
              "...        ...          ...                                                ...  \n",
              "69409  opinion   2012-07-16                              wait direction market  \n",
              "69410  opinion   2012-07-19    mid year update us canadian stock market sector  \n",
              "69411  opinion   2012-07-23                       summer heat scorch europe us  \n",
              "69412  opinion   2012-07-23          apple earnings preview quarterly dip deck  \n",
              "69413  opinion   2012-07-23                               trade apple earnings  \n",
              "\n",
              "[20231 rows x 6 columns]"
            ]
          },
          "execution_count": 240,
          "metadata": {},
          "output_type": "execute_result"
        }
      ],
      "source": [
        "# Applying preprocessing\n",
        "news['processed_titles'] = news['title'].apply(text_preprocessing)\n",
        "news"
      ]
    },
    {
      "cell_type": "code",
      "execution_count": null,
      "metadata": {
        "id": "5Js9kqGz3jst",
        "outputId": "aa2344bc-8b8a-4c76-c80a-260dee22139c"
      },
      "outputs": [
        {
          "data": {
            "text/html": [
              "<div>\n",
              "<style scoped>\n",
              "    .dataframe tbody tr th:only-of-type {\n",
              "        vertical-align: middle;\n",
              "    }\n",
              "\n",
              "    .dataframe tbody tr th {\n",
              "        vertical-align: top;\n",
              "    }\n",
              "\n",
              "    .dataframe thead th {\n",
              "        text-align: right;\n",
              "    }\n",
              "</style>\n",
              "<table border=\"1\" class=\"dataframe\">\n",
              "  <thead>\n",
              "    <tr style=\"text-align: right;\">\n",
              "      <th></th>\n",
              "      <th>release_date</th>\n",
              "      <th>processed_titles</th>\n",
              "    </tr>\n",
              "  </thead>\n",
              "  <tbody>\n",
              "    <tr>\n",
              "      <th>0</th>\n",
              "      <td>2012-07-16</td>\n",
              "      <td>wait direction market</td>\n",
              "    </tr>\n",
              "    <tr>\n",
              "      <th>1</th>\n",
              "      <td>2012-07-19</td>\n",
              "      <td>mid year update us canadian stock market sector</td>\n",
              "    </tr>\n",
              "    <tr>\n",
              "      <th>2</th>\n",
              "      <td>2012-07-23</td>\n",
              "      <td>summer heat scorch europe us apple earnings pr...</td>\n",
              "    </tr>\n",
              "    <tr>\n",
              "      <th>3</th>\n",
              "      <td>2012-07-24</td>\n",
              "      <td>market bait switch</td>\n",
              "    </tr>\n",
              "    <tr>\n",
              "      <th>4</th>\n",
              "      <td>2012-07-27</td>\n",
              "      <td>aapl fall tree</td>\n",
              "    </tr>\n",
              "    <tr>\n",
              "      <th>...</th>\n",
              "      <td>...</td>\n",
              "      <td>...</td>\n",
              "    </tr>\n",
              "    <tr>\n",
              "      <th>2262</th>\n",
              "      <td>2020-01-24</td>\n",
              "      <td>stock buy list already run preview tech sector...</td>\n",
              "    </tr>\n",
              "    <tr>\n",
              "      <th>2263</th>\n",
              "      <td>2020-01-25</td>\n",
              "      <td>apple tv already million customer</td>\n",
              "    </tr>\n",
              "    <tr>\n",
              "      <th>2264</th>\n",
              "      <td>2020-01-26</td>\n",
              "      <td>western digital wdc report q earnings expect a...</td>\n",
              "    </tr>\n",
              "    <tr>\n",
              "      <th>2265</th>\n",
              "      <td>2020-01-27</td>\n",
              "      <td>apple set beat q earnings estimate tech etfs b...</td>\n",
              "    </tr>\n",
              "    <tr>\n",
              "      <th>2266</th>\n",
              "      <td>2020-01-28</td>\n",
              "      <td>jpmorgan cautious ahead apple earnings faang f...</td>\n",
              "    </tr>\n",
              "  </tbody>\n",
              "</table>\n",
              "<p>2267 rows × 2 columns</p>\n",
              "</div>"
            ],
            "text/plain": [
              "     release_date                                   processed_titles\n",
              "0      2012-07-16                              wait direction market\n",
              "1      2012-07-19    mid year update us canadian stock market sector\n",
              "2      2012-07-23  summer heat scorch europe us apple earnings pr...\n",
              "3      2012-07-24                                 market bait switch\n",
              "4      2012-07-27                                     aapl fall tree\n",
              "...           ...                                                ...\n",
              "2262   2020-01-24  stock buy list already run preview tech sector...\n",
              "2263   2020-01-25                  apple tv already million customer\n",
              "2264   2020-01-26  western digital wdc report q earnings expect a...\n",
              "2265   2020-01-27  apple set beat q earnings estimate tech etfs b...\n",
              "2266   2020-01-28  jpmorgan cautious ahead apple earnings faang f...\n",
              "\n",
              "[2267 rows x 2 columns]"
            ]
          },
          "execution_count": 241,
          "metadata": {},
          "output_type": "execute_result"
        }
      ],
      "source": [
        "# Merging articles of the same day to one long string\n",
        "c_news = news.groupby('release_date')['processed_titles'].apply(list).reset_index(name='processed_titles')\n",
        "c_news['processed_titles']= c_news['processed_titles'].apply(' '.join)\n",
        "c_news"
      ]
    },
    {
      "cell_type": "code",
      "execution_count": null,
      "metadata": {
        "scrolled": false,
        "id": "hxrvaH6U3jst",
        "outputId": "4c21c13d-b3ac-4eab-ce74-7ab0a96e7796"
      },
      "outputs": [
        {
          "data": {
            "text/html": [
              "<div>\n",
              "<style scoped>\n",
              "    .dataframe tbody tr th:only-of-type {\n",
              "        vertical-align: middle;\n",
              "    }\n",
              "\n",
              "    .dataframe tbody tr th {\n",
              "        vertical-align: top;\n",
              "    }\n",
              "\n",
              "    .dataframe thead th {\n",
              "        text-align: right;\n",
              "    }\n",
              "</style>\n",
              "<table border=\"1\" class=\"dataframe\">\n",
              "  <thead>\n",
              "    <tr style=\"text-align: right;\">\n",
              "      <th></th>\n",
              "      <th>release_date</th>\n",
              "      <th>processed_titles</th>\n",
              "      <th>Date</th>\n",
              "      <th>Open</th>\n",
              "      <th>Close</th>\n",
              "      <th>movement</th>\n",
              "    </tr>\n",
              "  </thead>\n",
              "  <tbody>\n",
              "    <tr>\n",
              "      <th>0</th>\n",
              "      <td>2012-07-16</td>\n",
              "      <td>wait direction market</td>\n",
              "      <td>2012-07-16</td>\n",
              "      <td>21.611429</td>\n",
              "      <td>21.675358</td>\n",
              "      <td>1.0</td>\n",
              "    </tr>\n",
              "    <tr>\n",
              "      <th>1</th>\n",
              "      <td>2012-07-19</td>\n",
              "      <td>mid year update us canadian stock market sector</td>\n",
              "      <td>2012-07-19</td>\n",
              "      <td>21.831429</td>\n",
              "      <td>21.940001</td>\n",
              "      <td>1.0</td>\n",
              "    </tr>\n",
              "    <tr>\n",
              "      <th>2</th>\n",
              "      <td>2012-07-23</td>\n",
              "      <td>summer heat scorch europe us apple earnings pr...</td>\n",
              "      <td>2012-07-23</td>\n",
              "      <td>21.228571</td>\n",
              "      <td>21.565357</td>\n",
              "      <td>1.0</td>\n",
              "    </tr>\n",
              "    <tr>\n",
              "      <th>3</th>\n",
              "      <td>2012-07-24</td>\n",
              "      <td>market bait switch</td>\n",
              "      <td>2012-07-24</td>\n",
              "      <td>21.692142</td>\n",
              "      <td>21.461430</td>\n",
              "      <td>0.0</td>\n",
              "    </tr>\n",
              "    <tr>\n",
              "      <th>4</th>\n",
              "      <td>2012-07-27</td>\n",
              "      <td>aapl fall tree</td>\n",
              "      <td>2012-07-27</td>\n",
              "      <td>20.536072</td>\n",
              "      <td>20.898571</td>\n",
              "      <td>1.0</td>\n",
              "    </tr>\n",
              "    <tr>\n",
              "      <th>...</th>\n",
              "      <td>...</td>\n",
              "      <td>...</td>\n",
              "      <td>...</td>\n",
              "      <td>...</td>\n",
              "      <td>...</td>\n",
              "      <td>...</td>\n",
              "    </tr>\n",
              "    <tr>\n",
              "      <th>1735</th>\n",
              "      <td>2020-01-22</td>\n",
              "      <td>zacks market edge highlight vegn apple microso...</td>\n",
              "      <td>2020-01-22</td>\n",
              "      <td>79.644997</td>\n",
              "      <td>79.425003</td>\n",
              "      <td>0.0</td>\n",
              "    </tr>\n",
              "    <tr>\n",
              "      <th>1736</th>\n",
              "      <td>2020-01-23</td>\n",
              "      <td>gpu adoption epyc deal win aid amd q earnings ...</td>\n",
              "      <td>2020-01-23</td>\n",
              "      <td>79.480003</td>\n",
              "      <td>79.807503</td>\n",
              "      <td>1.0</td>\n",
              "    </tr>\n",
              "    <tr>\n",
              "      <th>1737</th>\n",
              "      <td>2020-01-24</td>\n",
              "      <td>stock buy list already run preview tech sector...</td>\n",
              "      <td>2020-01-24</td>\n",
              "      <td>80.062500</td>\n",
              "      <td>79.577499</td>\n",
              "      <td>0.0</td>\n",
              "    </tr>\n",
              "    <tr>\n",
              "      <th>1738</th>\n",
              "      <td>2020-01-27</td>\n",
              "      <td>apple set beat q earnings estimate tech etfs b...</td>\n",
              "      <td>2020-01-27</td>\n",
              "      <td>77.514999</td>\n",
              "      <td>77.237503</td>\n",
              "      <td>0.0</td>\n",
              "    </tr>\n",
              "    <tr>\n",
              "      <th>1739</th>\n",
              "      <td>2020-01-28</td>\n",
              "      <td>jpmorgan cautious ahead apple earnings faang f...</td>\n",
              "      <td>2020-01-28</td>\n",
              "      <td>78.150002</td>\n",
              "      <td>79.422501</td>\n",
              "      <td>1.0</td>\n",
              "    </tr>\n",
              "  </tbody>\n",
              "</table>\n",
              "<p>1740 rows × 6 columns</p>\n",
              "</div>"
            ],
            "text/plain": [
              "     release_date                                   processed_titles  \\\n",
              "0      2012-07-16                              wait direction market   \n",
              "1      2012-07-19    mid year update us canadian stock market sector   \n",
              "2      2012-07-23  summer heat scorch europe us apple earnings pr...   \n",
              "3      2012-07-24                                 market bait switch   \n",
              "4      2012-07-27                                     aapl fall tree   \n",
              "...           ...                                                ...   \n",
              "1735   2020-01-22  zacks market edge highlight vegn apple microso...   \n",
              "1736   2020-01-23  gpu adoption epyc deal win aid amd q earnings ...   \n",
              "1737   2020-01-24  stock buy list already run preview tech sector...   \n",
              "1738   2020-01-27  apple set beat q earnings estimate tech etfs b...   \n",
              "1739   2020-01-28  jpmorgan cautious ahead apple earnings faang f...   \n",
              "\n",
              "            Date       Open      Close  movement  \n",
              "0     2012-07-16  21.611429  21.675358       1.0  \n",
              "1     2012-07-19  21.831429  21.940001       1.0  \n",
              "2     2012-07-23  21.228571  21.565357       1.0  \n",
              "3     2012-07-24  21.692142  21.461430       0.0  \n",
              "4     2012-07-27  20.536072  20.898571       1.0  \n",
              "...          ...        ...        ...       ...  \n",
              "1735  2020-01-22  79.644997  79.425003       0.0  \n",
              "1736  2020-01-23  79.480003  79.807503       1.0  \n",
              "1737  2020-01-24  80.062500  79.577499       0.0  \n",
              "1738  2020-01-27  77.514999  77.237503       0.0  \n",
              "1739  2020-01-28  78.150002  79.422501       1.0  \n",
              "\n",
              "[1740 rows x 6 columns]"
            ]
          },
          "execution_count": 242,
          "metadata": {},
          "output_type": "execute_result"
        }
      ],
      "source": [
        "# Merging news with stocks\n",
        "dataset = pd.merge(c_news, stocks, left_on='release_date', right_on='Date')\n",
        "dataset"
      ]
    },
    {
      "cell_type": "code",
      "execution_count": null,
      "metadata": {
        "id": "HsyOWdDd3jsu"
      },
      "outputs": [],
      "source": [
        "# train-test split\n",
        "X_train,X_test, y_train,y_test = train_test_split(dataset['processed_titles'],\n",
        "                                                  dataset['movement'],\n",
        "                                                  test_size=0.33,\n",
        "                                                  random_state=42)"
      ]
    },
    {
      "cell_type": "markdown",
      "metadata": {
        "id": "ckvn5uhD3jsu"
      },
      "source": [
        "We vectorize our titles to be able to use them with quantitative models. For this we are using a simple CountVectorizer, also looking for bigrams and limit the result to 100 most informative features."
      ]
    },
    {
      "cell_type": "code",
      "execution_count": null,
      "metadata": {
        "id": "3uhgiFX13jsu",
        "outputId": "2b4394aa-addc-4891-f32d-315be04c4799"
      },
      "outputs": [
        {
          "data": {
            "text/html": [
              "<style>#sk-container-id-9 {color: black;background-color: white;}#sk-container-id-9 pre{padding: 0;}#sk-container-id-9 div.sk-toggleable {background-color: white;}#sk-container-id-9 label.sk-toggleable__label {cursor: pointer;display: block;width: 100%;margin-bottom: 0;padding: 0.3em;box-sizing: border-box;text-align: center;}#sk-container-id-9 label.sk-toggleable__label-arrow:before {content: \"▸\";float: left;margin-right: 0.25em;color: #696969;}#sk-container-id-9 label.sk-toggleable__label-arrow:hover:before {color: black;}#sk-container-id-9 div.sk-estimator:hover label.sk-toggleable__label-arrow:before {color: black;}#sk-container-id-9 div.sk-toggleable__content {max-height: 0;max-width: 0;overflow: hidden;text-align: left;background-color: #f0f8ff;}#sk-container-id-9 div.sk-toggleable__content pre {margin: 0.2em;color: black;border-radius: 0.25em;background-color: #f0f8ff;}#sk-container-id-9 input.sk-toggleable__control:checked~div.sk-toggleable__content {max-height: 200px;max-width: 100%;overflow: auto;}#sk-container-id-9 input.sk-toggleable__control:checked~label.sk-toggleable__label-arrow:before {content: \"▾\";}#sk-container-id-9 div.sk-estimator input.sk-toggleable__control:checked~label.sk-toggleable__label {background-color: #d4ebff;}#sk-container-id-9 div.sk-label input.sk-toggleable__control:checked~label.sk-toggleable__label {background-color: #d4ebff;}#sk-container-id-9 input.sk-hidden--visually {border: 0;clip: rect(1px 1px 1px 1px);clip: rect(1px, 1px, 1px, 1px);height: 1px;margin: -1px;overflow: hidden;padding: 0;position: absolute;width: 1px;}#sk-container-id-9 div.sk-estimator {font-family: monospace;background-color: #f0f8ff;border: 1px dotted black;border-radius: 0.25em;box-sizing: border-box;margin-bottom: 0.5em;}#sk-container-id-9 div.sk-estimator:hover {background-color: #d4ebff;}#sk-container-id-9 div.sk-parallel-item::after {content: \"\";width: 100%;border-bottom: 1px solid gray;flex-grow: 1;}#sk-container-id-9 div.sk-label:hover label.sk-toggleable__label {background-color: #d4ebff;}#sk-container-id-9 div.sk-serial::before {content: \"\";position: absolute;border-left: 1px solid gray;box-sizing: border-box;top: 0;bottom: 0;left: 50%;z-index: 0;}#sk-container-id-9 div.sk-serial {display: flex;flex-direction: column;align-items: center;background-color: white;padding-right: 0.2em;padding-left: 0.2em;position: relative;}#sk-container-id-9 div.sk-item {position: relative;z-index: 1;}#sk-container-id-9 div.sk-parallel {display: flex;align-items: stretch;justify-content: center;background-color: white;position: relative;}#sk-container-id-9 div.sk-item::before, #sk-container-id-9 div.sk-parallel-item::before {content: \"\";position: absolute;border-left: 1px solid gray;box-sizing: border-box;top: 0;bottom: 0;left: 50%;z-index: -1;}#sk-container-id-9 div.sk-parallel-item {display: flex;flex-direction: column;z-index: 1;position: relative;background-color: white;}#sk-container-id-9 div.sk-parallel-item:first-child::after {align-self: flex-end;width: 50%;}#sk-container-id-9 div.sk-parallel-item:last-child::after {align-self: flex-start;width: 50%;}#sk-container-id-9 div.sk-parallel-item:only-child::after {width: 0;}#sk-container-id-9 div.sk-dashed-wrapped {border: 1px dashed gray;margin: 0 0.4em 0.5em 0.4em;box-sizing: border-box;padding-bottom: 0.4em;background-color: white;}#sk-container-id-9 div.sk-label label {font-family: monospace;font-weight: bold;display: inline-block;line-height: 1.2em;}#sk-container-id-9 div.sk-label-container {text-align: center;}#sk-container-id-9 div.sk-container {/* jupyter's `normalize.less` sets `[hidden] { display: none; }` but bootstrap.min.css set `[hidden] { display: none !important; }` so we also need the `!important` here to be able to override the default hidden behavior on the sphinx rendered scikit-learn.org. See: https://github.com/scikit-learn/scikit-learn/issues/21755 */display: inline-block !important;position: relative;}#sk-container-id-9 div.sk-text-repr-fallback {display: none;}</style><div id=\"sk-container-id-9\" class=\"sk-top-container\"><div class=\"sk-text-repr-fallback\"><pre>CountVectorizer(max_features=100, ngram_range=(1, 2))</pre><b>In a Jupyter environment, please rerun this cell to show the HTML representation or trust the notebook. <br />On GitHub, the HTML representation is unable to render, please try loading this page with nbviewer.org.</b></div><div class=\"sk-container\" hidden><div class=\"sk-item\"><div class=\"sk-estimator sk-toggleable\"><input class=\"sk-toggleable__control sk-hidden--visually\" id=\"sk-estimator-id-9\" type=\"checkbox\" checked><label for=\"sk-estimator-id-9\" class=\"sk-toggleable__label sk-toggleable__label-arrow\">CountVectorizer</label><div class=\"sk-toggleable__content\"><pre>CountVectorizer(max_features=100, ngram_range=(1, 2))</pre></div></div></div></div></div>"
            ],
            "text/plain": [
              "CountVectorizer(max_features=100, ngram_range=(1, 2))"
            ]
          },
          "execution_count": 245,
          "metadata": {},
          "output_type": "execute_result"
        }
      ],
      "source": [
        "# Vectorizer for single words and bigrams, keeping the top 100 features, creating a bag of words considering word occurences\n",
        "vectorizer = CountVectorizer(ngram_range=(1,2), max_features=100) \n",
        "vectorizer.fit(X_train)"
      ]
    },
    {
      "cell_type": "code",
      "execution_count": null,
      "metadata": {
        "id": "n4JZDc4L3jsu"
      },
      "outputs": [],
      "source": [
        "# Turning count vectors to dataframes \n",
        "colNames = vectorizer.get_feature_names_out() \n",
        "X_train_c = pd.DataFrame(vectorizer.transform(X_train).toarray(),columns=colNames)\n",
        "X_test_c = pd.DataFrame(vectorizer.transform(X_test).toarray(),columns=colNames)"
      ]
    },
    {
      "cell_type": "code",
      "execution_count": null,
      "metadata": {
        "id": "KrfHxkO53jsu",
        "outputId": "094f1435-8b14-4a69-cc40-32262f11c445"
      },
      "outputs": [
        {
          "data": {
            "text/plain": [
              "count    1740.000000\n",
              "mean        0.526437\n",
              "std         0.499444\n",
              "min         0.000000\n",
              "25%         0.000000\n",
              "50%         1.000000\n",
              "75%         1.000000\n",
              "max         1.000000\n",
              "Name: movement, dtype: float64"
            ]
          },
          "execution_count": 247,
          "metadata": {},
          "output_type": "execute_result"
        }
      ],
      "source": [
        "# Investigating label balance\n",
        "dataset.movement.describe()"
      ]
    },
    {
      "cell_type": "code",
      "execution_count": null,
      "metadata": {
        "id": "-gL9Wycx3jsu",
        "outputId": "d1f8c36b-9d74-4dd8-98d0-146fec1bb085"
      },
      "outputs": [
        {
          "name": "stderr",
          "output_type": "stream",
          "text": [
            "C:\\Users\\kimge\\anaconda3\\lib\\site-packages\\xgboost\\data.py:173: FutureWarning: pandas.Int64Index is deprecated and will be removed from pandas in a future version. Use pandas.Index with the appropriate dtype instead.\n",
            "  from pandas import MultiIndex, Int64Index\n"
          ]
        }
      ],
      "source": [
        "# Training an xgboost classifier\n",
        "model = XGBClassifier(objective='binary:logistic')\n",
        "model.fit(X_train_c, y_train)\n",
        "predictions = model.predict(X_test_c)"
      ]
    },
    {
      "cell_type": "markdown",
      "metadata": {
        "id": "X_RkqYs23jsu"
      },
      "source": [
        "We use f1 score for evaluation of our binary predictions"
      ]
    },
    {
      "cell_type": "code",
      "execution_count": null,
      "metadata": {
        "id": "_VHhbPy03jsu",
        "outputId": "02c72e36-669a-45d7-81f9-44711bba1a31"
      },
      "outputs": [
        {
          "data": {
            "text/plain": [
              "0.5328836424957842"
            ]
          },
          "execution_count": 249,
          "metadata": {},
          "output_type": "execute_result"
        }
      ],
      "source": [
        "f1_score(y_test, predictions)"
      ]
    },
    {
      "cell_type": "code",
      "execution_count": null,
      "metadata": {
        "id": "orb5AQPK3jsu",
        "outputId": "a7652404-2250-4b64-8da9-b44f31327456"
      },
      "outputs": [
        {
          "name": "stderr",
          "output_type": "stream",
          "text": [
            "C:\\Users\\kimge\\anaconda3\\lib\\site-packages\\sklearn\\ensemble\\_forest.py:427: FutureWarning: `max_features='auto'` has been deprecated in 1.1 and will be removed in 1.3. To keep the past behaviour, explicitly set `max_features='sqrt'` or remove this parameter as it is also the default value for RandomForestClassifiers and ExtraTreesClassifiers.\n",
            "  warn(\n"
          ]
        }
      ],
      "source": [
        "from sklearn.ensemble import RandomForestClassifier\n",
        "RF_model = RandomForestClassifier(n_estimators=275, criterion='gini', max_features='auto')\n",
        "RF_model = RF_model.fit(X_train_c, y_train)\n",
        "RF_predictions = RF_model.predict(X_test_c)"
      ]
    },
    {
      "cell_type": "code",
      "execution_count": null,
      "metadata": {
        "id": "3OmFua3n3jsu",
        "outputId": "81458b8d-f3df-4304-c652-1ff4e95bd1ac"
      },
      "outputs": [
        {
          "data": {
            "text/plain": [
              "0.5391014975041597"
            ]
          },
          "execution_count": 251,
          "metadata": {},
          "output_type": "execute_result"
        }
      ],
      "source": [
        "f1_score(y_test, RF_predictions)"
      ]
    }
  ],
  "metadata": {
    "kernelspec": {
      "display_name": "Python 3 (ipykernel)",
      "language": "python",
      "name": "python3"
    },
    "language_info": {
      "codemirror_mode": {
        "name": "ipython",
        "version": 3
      },
      "file_extension": ".py",
      "mimetype": "text/x-python",
      "name": "python",
      "nbconvert_exporter": "python",
      "pygments_lexer": "ipython3",
      "version": "3.8.3"
    },
    "vscode": {
      "interpreter": {
        "hash": "40d3a090f54c6569ab1632332b64b2c03c39dcf918b08424e98f38b5ae0af88f"
      }
    },
    "colab": {
      "provenance": [],
      "include_colab_link": true
    }
  },
  "nbformat": 4,
  "nbformat_minor": 0
}